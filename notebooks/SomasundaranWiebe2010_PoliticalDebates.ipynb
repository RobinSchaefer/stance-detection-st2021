{
 "cells": [
  {
   "cell_type": "markdown",
   "metadata": {},
   "source": [
    "# Stance Detection in Political Debates (Somasundaran & Wiebe 2010)"
   ]
  },
  {
   "cell_type": "markdown",
   "metadata": {},
   "source": [
    "In this notebook we will see a first simple example of applied stance detection. The data was used in:\n",
    "\n",
    "Somasundaran & Wiebe (2010). Recognizing Stances in Ideological On-Line Debates.\n",
    "https://www.aclweb.org/anthology/W10-0214/\n",
    "\n",
    "Here we try to partly replicate the results presented in the paper. However, to keep things simple we only focus on subparts of the corpus (abortion, gay rights) and stick to unigrams as features for now.\n",
    "\n",
    "If you want to experiment with the code on your own you need to download the data and adjust the path definitions."
   ]
  },
  {
   "cell_type": "markdown",
   "metadata": {},
   "source": [
    "The data can be downloaded from:\n",
    "\n",
    "http://mpqa.cs.pitt.edu/corpora/political_debates/"
   ]
  },
  {
   "cell_type": "code",
   "execution_count": 1,
   "metadata": {},
   "outputs": [],
   "source": [
    "import io\n",
    "import os\n",
    "from sklearn.feature_extraction.text import CountVectorizer\n",
    "from sklearn.metrics import f1_score, accuracy_score\n",
    "from sklearn.model_selection import train_test_split\n",
    "from sklearn.svm import SVC"
   ]
  },
  {
   "cell_type": "markdown",
   "metadata": {},
   "source": [
    "## 1. Reading in Data"
   ]
  },
  {
   "cell_type": "code",
   "execution_count": 2,
   "metadata": {},
   "outputs": [],
   "source": [
    "# need to be adjusted to your platform\n",
    "abortion_data_path = '/home/robin/research/corpora/political_debates_SomasundaranWiebeAcl2009/abortion'\n",
    "gayrights_data_path = '/home/robin/research/corpora/political_debates_SomasundaranWiebeAcl2009/gayRights'"
   ]
  },
  {
   "cell_type": "markdown",
   "metadata": {},
   "source": [
    "The following block contains code for reading in the data. Data is read from txt files and joined to strings."
   ]
  },
  {
   "cell_type": "code",
   "execution_count": 3,
   "metadata": {},
   "outputs": [
    {
     "name": "stdout",
     "output_type": "stream",
     "text": [
      "Abortion Data Size: 1082\n",
      "Gay Rights Data Size: 1927\n",
      "Total Data Size: 3009\n"
     ]
    }
   ],
   "source": [
    "# Full vocab list\n",
    "vocab = []\n",
    "\n",
    "# Loading and first preprocessing of abolition data\n",
    "abortion_data = []\n",
    "abortion_stance = []\n",
    "\n",
    "for file in os.listdir(abortion_data_path):\n",
    "    abortion_file_path = os.path.join(abortion_data_path, file)\n",
    "    \n",
    "    with io.open(abortion_file_path, mode='r', encoding='utf-8') as f_in:\n",
    "        \n",
    "        try:\n",
    "            text = []\n",
    "            for line in f_in.read().split('\\n'):\n",
    "                if line.startswith('#stance'):\n",
    "                    abortion_stance.append(int(line[-1]))\n",
    "                elif line.startswith('#'):\n",
    "                    continue\n",
    "                else:\n",
    "                    text.append(line)\n",
    "                                \n",
    "            text = \" \".join(text)\n",
    "            #text = [token.strip() for token in text]\n",
    "            vocab.extend(text.split())\n",
    "            \n",
    "            abortion_data.append(text)\n",
    "        except:\n",
    "            pass\n",
    "\n",
    "# Loading and first preprocessing of gay rights data        \n",
    "gayrights_data = []\n",
    "gayrights_stance = []\n",
    "\n",
    "for file in os.listdir(gayrights_data_path):\n",
    "    gayrights_file_path = os.path.join(gayrights_data_path, file)\n",
    "    \n",
    "    with io.open(gayrights_file_path, mode='r', encoding='utf-8') as f_in:\n",
    "        \n",
    "        try:\n",
    "            text = []\n",
    "            for line in f_in.read().split('\\n'):\n",
    "                if line.startswith('#stance'):\n",
    "                    gayrights_stance.append(int(line[-1]))\n",
    "                elif line.startswith('#'):\n",
    "                    continue\n",
    "                else:\n",
    "                    text.append(line)\n",
    "                        \n",
    "            text = \" \".join(text)\n",
    "            #text = [token.strip() for token in text]\n",
    "            \n",
    "            vocab.extend(text.split())\n",
    "            \n",
    "            gayrights_data.append(text)\n",
    "        except:\n",
    "            pass\n",
    "\n",
    "vocab = set(vocab)\n",
    "        \n",
    "data_total = abortion_data + gayrights_data\n",
    "stance_total = abortion_stance + gayrights_stance\n",
    "\n",
    "print(\"Abortion Data Size: {}\".format(len(abortion_data)))\n",
    "print(\"Gay Rights Data Size: {}\".format(len(gayrights_data)))\n",
    "print(\"Total Data Size: {}\".format(len(data_total)))"
   ]
  },
  {
   "cell_type": "code",
   "execution_count": 4,
   "metadata": {},
   "outputs": [
    {
     "name": "stdout",
     "output_type": "stream",
     "text": [
      "Vocabulary Size: 36278\n"
     ]
    }
   ],
   "source": [
    "vocab = {token: i for i, token in enumerate(vocab)}\n",
    "print(\"Vocabulary Size: {}\".format(len(vocab)))"
   ]
  },
  {
   "cell_type": "markdown",
   "metadata": {},
   "source": [
    "## 2. Feature Extraction and Data Splitting"
   ]
  },
  {
   "cell_type": "markdown",
   "metadata": {},
   "source": [
    "We use the CountVectorizer to create a matrix representation of token counts. By setting `ngram_range` we can define the length of the token sequence. Setting it to `(1,1)` results in a unigram representation.\n",
    "\n",
    "Documentation: https://scikit-learn.org/stable/modules/generated/sklearn.feature_extraction.text.CountVectorizer.html"
   ]
  },
  {
   "cell_type": "code",
   "execution_count": 5,
   "metadata": {},
   "outputs": [],
   "source": [
    "# Defining count vectorizer instance\n",
    "vectorizer = CountVectorizer(ngram_range=(1,1), vocabulary=vocab)\n",
    "\n",
    "# Vectorizing data\n",
    "X_abortion = vectorizer.fit_transform(abortion_data)\n",
    "X_gayrights = vectorizer.fit_transform(gayrights_data)\n",
    "X_total = vectorizer.fit_transform(data_total)"
   ]
  },
  {
   "cell_type": "code",
   "execution_count": 6,
   "metadata": {},
   "outputs": [],
   "source": [
    "X_abortion = X_abortion.toarray()\n",
    "X_gayrights = X_gayrights.toarray()\n",
    "X_total = X_total.toarray()"
   ]
  },
  {
   "cell_type": "code",
   "execution_count": 7,
   "metadata": {},
   "outputs": [],
   "source": [
    "# Splitting data\n",
    "X_abortion_train, X_abortion_test, y_abortion_train, y_abortion_test = train_test_split(X_abortion, abortion_stance, test_size=0.25, random_state=42)\n",
    "X_gayrights_train, X_gayrights_test, y_gayrights_train, y_gayrights_test = train_test_split(X_gayrights, gayrights_stance, test_size=0.25, random_state=42)\n",
    "X_total_train, X_total_test, y_total_train, y_total_test = train_test_split(X_total, stance_total, test_size=0.25, random_state=42)"
   ]
  },
  {
   "cell_type": "markdown",
   "metadata": {},
   "source": [
    "## 3. Training Classifier"
   ]
  },
  {
   "cell_type": "markdown",
   "metadata": {},
   "source": [
    "In the following the classifiers are defined and trained. Feel free to change some hyperparameters like the C parameter. You can find the documentation on:\n",
    "\n",
    "https://scikit-learn.org/stable/modules/generated/sklearn.svm.SVC.html\n",
    "\n",
    "A quick excursus on the C parameter:\n",
    "\"The C parameter tells the SVM optimization how much you want to avoid misclassifying each training example. For large values of C, the optimization will choose a smaller-margin hyperplane if that hyperplane does a better job of getting all the training points classified correctly. Conversely, a very small value of C will cause the optimizer to look for a larger-margin separating hyperplane, even if that hyperplane misclassifies more points. For very tiny values of C, you should get misclassified examples, often even if your training data is linearly separable.\"\n",
    "\n",
    "https://stats.stackexchange.com/questions/31066/what-is-the-influence-of-c-in-svms-with-linear-kernel"
   ]
  },
  {
   "cell_type": "code",
   "execution_count": 8,
   "metadata": {},
   "outputs": [],
   "source": [
    "# Create SVM instances\n",
    "clf_abortion = SVC()\n",
    "clf_gayrights = SVC()\n",
    "clf_total = SVC()"
   ]
  },
  {
   "cell_type": "code",
   "execution_count": 9,
   "metadata": {},
   "outputs": [
    {
     "data": {
      "text/plain": [
       "SVC()"
      ]
     },
     "execution_count": 9,
     "metadata": {},
     "output_type": "execute_result"
    }
   ],
   "source": [
    "clf_abortion.fit(X_abortion_train, y_abortion_train)\n",
    "clf_gayrights.fit(X_gayrights_train, y_gayrights_train)\n",
    "clf_total.fit(X_total_train, y_total_train)"
   ]
  },
  {
   "cell_type": "markdown",
   "metadata": {},
   "source": [
    "## 4. In-Domain Testing"
   ]
  },
  {
   "cell_type": "markdown",
   "metadata": {},
   "source": [
    "In this section trained models are tested in domain, i.e. a classifier trained on abortion data is tested on abortion data."
   ]
  },
  {
   "cell_type": "code",
   "execution_count": 10,
   "metadata": {},
   "outputs": [],
   "source": [
    "y_abortion_pred = clf_abortion.predict(X_abortion_test)\n",
    "y_gayrights_pred = clf_gayrights.predict(X_gayrights_test)\n",
    "y_total_pred = clf_total.predict(X_total_test)"
   ]
  },
  {
   "cell_type": "code",
   "execution_count": 11,
   "metadata": {},
   "outputs": [],
   "source": [
    "accuracy_abortion = accuracy_score(y_abortion_test, y_abortion_pred)\n",
    "accuracy_gayrights = accuracy_score(y_gayrights_test, y_gayrights_pred)\n",
    "accuracy_total = accuracy_score(y_total_test, y_total_pred)"
   ]
  },
  {
   "cell_type": "code",
   "execution_count": 12,
   "metadata": {},
   "outputs": [
    {
     "name": "stdout",
     "output_type": "stream",
     "text": [
      "Accuracy Abortion: 0.631\n",
      "Accuracy Gay Rights: 0.633\n",
      "Accuracy Total: 0.636\n"
     ]
    }
   ],
   "source": [
    "print('Accuracy Abortion: {}'.format(round(accuracy_abortion, 3)))\n",
    "print('Accuracy Gay Rights: {}'.format(round(accuracy_gayrights, 3)))\n",
    "print('Accuracy Total: {}'.format(round(accuracy_total, 3)))"
   ]
  },
  {
   "cell_type": "markdown",
   "metadata": {},
   "source": [
    "## 5. Cross-Domain Testing"
   ]
  },
  {
   "cell_type": "markdown",
   "metadata": {},
   "source": [
    "In this section trained models are tested on cross-domain data, e.g. a classifier trained on abortion data is tested on gay rights data."
   ]
  },
  {
   "cell_type": "code",
   "execution_count": 13,
   "metadata": {},
   "outputs": [],
   "source": [
    "y_abortion_pred_cross = clf_gayrights.predict(X_abortion_test)\n",
    "y_gayrights_pred_cross = clf_abortion.predict(X_gayrights_test)"
   ]
  },
  {
   "cell_type": "code",
   "execution_count": 14,
   "metadata": {},
   "outputs": [],
   "source": [
    "accuracy_abortion_cross = accuracy_score(y_abortion_test, y_abortion_pred_cross)\n",
    "accuracy_gayrights_cross = accuracy_score(y_gayrights_test, y_gayrights_pred_cross)"
   ]
  },
  {
   "cell_type": "code",
   "execution_count": 15,
   "metadata": {},
   "outputs": [
    {
     "name": "stdout",
     "output_type": "stream",
     "text": [
      "Accuracy Abortion Cross-Domain: 0.5756457564575646\n",
      "Accuracy Gay Rights Cross-Domain: 0.6161825726141079\n"
     ]
    }
   ],
   "source": [
    "print('Accuracy Abortion Cross-Domain: {}'.format(accuracy_abortion_cross))\n",
    "print('Accuracy Gay Rights Cross-Domain: {}'.format(accuracy_gayrights_cross))"
   ]
  }
 ],
 "metadata": {
  "kernelspec": {
   "display_name": "Python 3",
   "language": "python",
   "name": "python3"
  },
  "language_info": {
   "codemirror_mode": {
    "name": "ipython",
    "version": 3
   },
   "file_extension": ".py",
   "mimetype": "text/x-python",
   "name": "python",
   "nbconvert_exporter": "python",
   "pygments_lexer": "ipython3",
   "version": "3.6.9"
  }
 },
 "nbformat": 4,
 "nbformat_minor": 2
}
